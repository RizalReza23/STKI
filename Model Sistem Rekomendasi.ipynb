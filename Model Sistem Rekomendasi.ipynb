{
  "cells": [
    {
      "cell_type": "markdown",
      "metadata": {
        "id": "rftwfMGA6jX2"
      },
      "source": [
        "# **Sistem Rekomendasi Produk E-Commerce Amazon**\n",
        "\n",
        "# Rizal Rezaroebojo - A11.2021.13881\n",
        "# UAS STKI"
      ]
    },
    {
      "cell_type": "markdown",
      "metadata": {
        "id": "C5s_K0ce6qrJ"
      },
      "source": [
        "## **Import Library**"
      ]
    },
    {
      "cell_type": "code",
      "execution_count": 36,
      "metadata": {
        "id": "VETAmaJv4QRR"
      },
      "outputs": [],
      "source": [
        "import numpy as np\n",
        "import pandas as pd\n",
        "from datetime import datetime,timedelta\n",
        "\n",
        "import matplotlib.pyplot as plt\n",
        "from matplotlib.patches import Patch\n",
        "from matplotlib.ticker import MaxNLocator\n",
        "\n",
        "import seaborn as sns\n",
        "from IPython.display import Markdown, display\n",
        "def printmd(string):\n",
        "    display(Markdown(string))"
      ]
    },
    {
      "cell_type": "markdown",
      "metadata": {
        "id": "VzLQ7nEd66IR"
      },
      "source": [
        "## **Load Data**"
      ]
    },
    {
      "cell_type": "code",
      "execution_count": 37,
      "metadata": {
        "id": "_i-M-XUa6xgB"
      },
      "outputs": [
        {
          "name": "stderr",
          "output_type": "stream",
          "text": [
            "\n",
            "[notice] A new release of pip is available: 24.2 -> 24.3.1\n",
            "[notice] To update, run: python.exe -m pip install --upgrade pip\n"
          ]
        }
      ],
      "source": [
        "!pip install -q Kaggle"
      ]
    },
    {
      "cell_type": "code",
      "execution_count": 38,
      "metadata": {
        "id": "z8qikVEN8_e0"
      },
      "outputs": [
        {
          "name": "stderr",
          "output_type": "stream",
          "text": [
            "The syntax of the command is incorrect.\n",
            "'mv' is not recognized as an internal or external command,\n",
            "operable program or batch file.\n",
            "'chmod' is not recognized as an internal or external command,\n",
            "operable program or batch file.\n"
          ]
        }
      ],
      "source": [
        "!mkdir -p ~/.kaggle\n",
        "!mv kaggle.json ~/.kaggle\n",
        "!chmod 600 ~/.kaggle/kaggle.json"
      ]
    },
    {
      "cell_type": "code",
      "execution_count": 39,
      "metadata": {
        "colab": {
          "base_uri": "https://localhost:8080/"
        },
        "id": "dEZpNmFe9NTa",
        "outputId": "6ad5d70b-1043-4737-ed4e-c9527c400e45"
      },
      "outputs": [
        {
          "name": "stdout",
          "output_type": "stream",
          "text": [
            "Dataset URL: https://www.kaggle.com/datasets/saurav9786/amazon-product-reviews\n",
            "License(s): unknown\n",
            "amazon-product-reviews.zip: Skipping, found more recently modified local copy (use --force to force download)\n"
          ]
        }
      ],
      "source": [
        "!kaggle datasets download -d saurav9786/amazon-product-reviews"
      ]
    },
    {
      "cell_type": "code",
      "execution_count": 40,
      "metadata": {
        "colab": {
          "base_uri": "https://localhost:8080/"
        },
        "id": "Km22N9AfkiEf",
        "outputId": "8816057e-bea6-4662-981a-ad750139110f"
      },
      "outputs": [
        {
          "name": "stderr",
          "output_type": "stream",
          "text": [
            "'unzip' is not recognized as an internal or external command,\n",
            "operable program or batch file.\n"
          ]
        }
      ],
      "source": [
        "! unzip /content/amazon-product-reviews.zip"
      ]
    },
    {
      "cell_type": "markdown",
      "metadata": {
        "id": "R_4OWPb4nI8V"
      },
      "source": [
        "## **Data Preparation**"
      ]
    },
    {
      "cell_type": "markdown",
      "metadata": {
        "id": "lewy38OPLKSQ"
      },
      "source": [
        "### **Menampilkan data**"
      ]
    },
    {
      "cell_type": "code",
      "execution_count": 41,
      "metadata": {
        "colab": {
          "base_uri": "https://localhost:8080/",
          "height": 206
        },
        "id": "kZa8QavUlRnY",
        "outputId": "2ed1e2a0-d9de-462f-c1c2-17468be6a9b8"
      },
      "outputs": [
        {
          "data": {
            "text/html": [
              "<div>\n",
              "<style scoped>\n",
              "    .dataframe tbody tr th:only-of-type {\n",
              "        vertical-align: middle;\n",
              "    }\n",
              "\n",
              "    .dataframe tbody tr th {\n",
              "        vertical-align: top;\n",
              "    }\n",
              "\n",
              "    .dataframe thead th {\n",
              "        text-align: right;\n",
              "    }\n",
              "</style>\n",
              "<table border=\"1\" class=\"dataframe\">\n",
              "  <thead>\n",
              "    <tr style=\"text-align: right;\">\n",
              "      <th></th>\n",
              "      <th>AKM1MP6P0OYPR</th>\n",
              "      <th>0132793040</th>\n",
              "      <th>5.0</th>\n",
              "      <th>1365811200</th>\n",
              "    </tr>\n",
              "  </thead>\n",
              "  <tbody>\n",
              "    <tr>\n",
              "      <th>0</th>\n",
              "      <td>A2CX7LUOHB2NDG</td>\n",
              "      <td>0321732944</td>\n",
              "      <td>5.0</td>\n",
              "      <td>1341100800</td>\n",
              "    </tr>\n",
              "    <tr>\n",
              "      <th>1</th>\n",
              "      <td>A2NWSAGRHCP8N5</td>\n",
              "      <td>0439886341</td>\n",
              "      <td>1.0</td>\n",
              "      <td>1367193600</td>\n",
              "    </tr>\n",
              "    <tr>\n",
              "      <th>2</th>\n",
              "      <td>A2WNBOD3WNDNKT</td>\n",
              "      <td>0439886341</td>\n",
              "      <td>3.0</td>\n",
              "      <td>1374451200</td>\n",
              "    </tr>\n",
              "    <tr>\n",
              "      <th>3</th>\n",
              "      <td>A1GI0U4ZRJA8WN</td>\n",
              "      <td>0439886341</td>\n",
              "      <td>1.0</td>\n",
              "      <td>1334707200</td>\n",
              "    </tr>\n",
              "    <tr>\n",
              "      <th>4</th>\n",
              "      <td>A1QGNMC6O1VW39</td>\n",
              "      <td>0511189877</td>\n",
              "      <td>5.0</td>\n",
              "      <td>1397433600</td>\n",
              "    </tr>\n",
              "  </tbody>\n",
              "</table>\n",
              "</div>"
            ],
            "text/plain": [
              "    AKM1MP6P0OYPR  0132793040  5.0  1365811200\n",
              "0  A2CX7LUOHB2NDG  0321732944  5.0  1341100800\n",
              "1  A2NWSAGRHCP8N5  0439886341  1.0  1367193600\n",
              "2  A2WNBOD3WNDNKT  0439886341  3.0  1374451200\n",
              "3  A1GI0U4ZRJA8WN  0439886341  1.0  1334707200\n",
              "4  A1QGNMC6O1VW39  0511189877  5.0  1397433600"
            ]
          },
          "execution_count": 41,
          "metadata": {},
          "output_type": "execute_result"
        }
      ],
      "source": [
        "# Menampilkan data yang terdapat dalam dataset\n",
        "df=pd.read_csv(\"D:/Documents/Downloads/Model-Sistem-Rekomendasi-main/Model-Sistem-Rekomendasi-main/amazon-product-reviews/ratings_Electronics (1).csv\")\n",
        "df.head()"
      ]
    },
    {
      "cell_type": "markdown",
      "metadata": {
        "id": "1c801ZxYmJE_"
      },
      "source": [
        "### **Memberi Nama Kolom**"
      ]
    },
    {
      "cell_type": "code",
      "execution_count": 42,
      "metadata": {
        "colab": {
          "base_uri": "https://localhost:8080/",
          "height": 206
        },
        "id": "xzuSKCyYlwPZ",
        "outputId": "673cd3da-500a-4438-a0a6-1e1f1f686bc7"
      },
      "outputs": [
        {
          "data": {
            "text/html": [
              "<div>\n",
              "<style scoped>\n",
              "    .dataframe tbody tr th:only-of-type {\n",
              "        vertical-align: middle;\n",
              "    }\n",
              "\n",
              "    .dataframe tbody tr th {\n",
              "        vertical-align: top;\n",
              "    }\n",
              "\n",
              "    .dataframe thead th {\n",
              "        text-align: right;\n",
              "    }\n",
              "</style>\n",
              "<table border=\"1\" class=\"dataframe\">\n",
              "  <thead>\n",
              "    <tr style=\"text-align: right;\">\n",
              "      <th></th>\n",
              "      <th>userId</th>\n",
              "      <th>productId</th>\n",
              "      <th>rating</th>\n",
              "      <th>timestamp</th>\n",
              "    </tr>\n",
              "  </thead>\n",
              "  <tbody>\n",
              "    <tr>\n",
              "      <th>0</th>\n",
              "      <td>A2CX7LUOHB2NDG</td>\n",
              "      <td>0321732944</td>\n",
              "      <td>5</td>\n",
              "      <td>1341100800</td>\n",
              "    </tr>\n",
              "    <tr>\n",
              "      <th>1</th>\n",
              "      <td>A2NWSAGRHCP8N5</td>\n",
              "      <td>0439886341</td>\n",
              "      <td>1</td>\n",
              "      <td>1367193600</td>\n",
              "    </tr>\n",
              "    <tr>\n",
              "      <th>2</th>\n",
              "      <td>A2WNBOD3WNDNKT</td>\n",
              "      <td>0439886341</td>\n",
              "      <td>3</td>\n",
              "      <td>1374451200</td>\n",
              "    </tr>\n",
              "    <tr>\n",
              "      <th>3</th>\n",
              "      <td>A1GI0U4ZRJA8WN</td>\n",
              "      <td>0439886341</td>\n",
              "      <td>1</td>\n",
              "      <td>1334707200</td>\n",
              "    </tr>\n",
              "    <tr>\n",
              "      <th>4</th>\n",
              "      <td>A1QGNMC6O1VW39</td>\n",
              "      <td>0511189877</td>\n",
              "      <td>5</td>\n",
              "      <td>1397433600</td>\n",
              "    </tr>\n",
              "  </tbody>\n",
              "</table>\n",
              "</div>"
            ],
            "text/plain": [
              "           userId   productId  rating   timestamp\n",
              "0  A2CX7LUOHB2NDG  0321732944       5  1341100800\n",
              "1  A2NWSAGRHCP8N5  0439886341       1  1367193600\n",
              "2  A2WNBOD3WNDNKT  0439886341       3  1374451200\n",
              "3  A1GI0U4ZRJA8WN  0439886341       1  1334707200\n",
              "4  A1QGNMC6O1VW39  0511189877       5  1397433600"
            ]
          },
          "execution_count": 42,
          "metadata": {},
          "output_type": "execute_result"
        }
      ],
      "source": [
        "electronics_data=pd.read_csv(\"D:/Documents/Downloads/Model-Sistem-Rekomendasi-main/Model-Sistem-Rekomendasi-main/amazon-product-reviews/ratings_Electronics (1).csv\", dtype={'rating': 'int8'},\n",
        "                             names=['userId', 'productId','rating','timestamp'], index_col=None, header=0)\n",
        "electronics_data.head()"
      ]
    },
    {
      "cell_type": "markdown",
      "metadata": {
        "id": "TEnfjUshmS41"
      },
      "source": [
        "### **Melihat Info Data**"
      ]
    },
    {
      "cell_type": "code",
      "execution_count": 43,
      "metadata": {
        "colab": {
          "base_uri": "https://localhost:8080/"
        },
        "id": "8zDfaVrYLcE6",
        "outputId": "3588ffa8-8951-41c3-bdfa-92263629e836"
      },
      "outputs": [
        {
          "data": {
            "text/plain": [
              "(7824481, 4)"
            ]
          },
          "execution_count": 43,
          "metadata": {},
          "output_type": "execute_result"
        }
      ],
      "source": [
        "electronics_data.shape"
      ]
    },
    {
      "cell_type": "code",
      "execution_count": 44,
      "metadata": {
        "colab": {
          "base_uri": "https://localhost:8080/",
          "height": 301
        },
        "id": "SK8XEn2UmDkR",
        "outputId": "0309c2e3-39b3-4fdd-c7f2-4b5f6dc3ee1c"
      },
      "outputs": [
        {
          "data": {
            "text/html": [
              "<div>\n",
              "<style scoped>\n",
              "    .dataframe tbody tr th:only-of-type {\n",
              "        vertical-align: middle;\n",
              "    }\n",
              "\n",
              "    .dataframe tbody tr th {\n",
              "        vertical-align: top;\n",
              "    }\n",
              "\n",
              "    .dataframe thead th {\n",
              "        text-align: right;\n",
              "    }\n",
              "</style>\n",
              "<table border=\"1\" class=\"dataframe\">\n",
              "  <thead>\n",
              "    <tr style=\"text-align: right;\">\n",
              "      <th></th>\n",
              "      <th>rating</th>\n",
              "      <th>timestamp</th>\n",
              "    </tr>\n",
              "  </thead>\n",
              "  <tbody>\n",
              "    <tr>\n",
              "      <th>count</th>\n",
              "      <td>7.824481e+06</td>\n",
              "      <td>7.824481e+06</td>\n",
              "    </tr>\n",
              "    <tr>\n",
              "      <th>mean</th>\n",
              "      <td>4.012337e+00</td>\n",
              "      <td>1.338178e+09</td>\n",
              "    </tr>\n",
              "    <tr>\n",
              "      <th>std</th>\n",
              "      <td>1.380910e+00</td>\n",
              "      <td>6.900426e+07</td>\n",
              "    </tr>\n",
              "    <tr>\n",
              "      <th>min</th>\n",
              "      <td>1.000000e+00</td>\n",
              "      <td>9.127296e+08</td>\n",
              "    </tr>\n",
              "    <tr>\n",
              "      <th>25%</th>\n",
              "      <td>3.000000e+00</td>\n",
              "      <td>1.315354e+09</td>\n",
              "    </tr>\n",
              "    <tr>\n",
              "      <th>50%</th>\n",
              "      <td>5.000000e+00</td>\n",
              "      <td>1.361059e+09</td>\n",
              "    </tr>\n",
              "    <tr>\n",
              "      <th>75%</th>\n",
              "      <td>5.000000e+00</td>\n",
              "      <td>1.386115e+09</td>\n",
              "    </tr>\n",
              "    <tr>\n",
              "      <th>max</th>\n",
              "      <td>5.000000e+00</td>\n",
              "      <td>1.406074e+09</td>\n",
              "    </tr>\n",
              "  </tbody>\n",
              "</table>\n",
              "</div>"
            ],
            "text/plain": [
              "             rating     timestamp\n",
              "count  7.824481e+06  7.824481e+06\n",
              "mean   4.012337e+00  1.338178e+09\n",
              "std    1.380910e+00  6.900426e+07\n",
              "min    1.000000e+00  9.127296e+08\n",
              "25%    3.000000e+00  1.315354e+09\n",
              "50%    5.000000e+00  1.361059e+09\n",
              "75%    5.000000e+00  1.386115e+09\n",
              "max    5.000000e+00  1.406074e+09"
            ]
          },
          "execution_count": 44,
          "metadata": {},
          "output_type": "execute_result"
        }
      ],
      "source": [
        "electronics_data.describe()"
      ]
    },
    {
      "cell_type": "code",
      "execution_count": 45,
      "metadata": {
        "colab": {
          "base_uri": "https://localhost:8080/"
        },
        "id": "reyVqpjWmYrN",
        "outputId": "d4d42171-168e-45cb-d871-9881ebfe2804"
      },
      "outputs": [
        {
          "name": "stdout",
          "output_type": "stream",
          "text": [
            "<class 'pandas.core.frame.DataFrame'>\n",
            "RangeIndex: 7824481 entries, 0 to 7824480\n",
            "Data columns (total 4 columns):\n",
            " #   Column     Dtype \n",
            "---  ------     ----- \n",
            " 0   userId     object\n",
            " 1   productId  object\n",
            " 2   rating     int8  \n",
            " 3   timestamp  int64 \n",
            "dtypes: int64(1), int8(1), object(2)\n",
            "memory usage: 186.6+ MB\n"
          ]
        }
      ],
      "source": [
        "electronics_data.info()"
      ]
    },
    {
      "cell_type": "code",
      "execution_count": 46,
      "metadata": {
        "colab": {
          "base_uri": "https://localhost:8080/"
        },
        "id": "T3vixqQWmaL-",
        "outputId": "b057f5cc-b8df-4399-e701-06a7d7c56b3a"
      },
      "outputs": [
        {
          "name": "stdout",
          "output_type": "stream",
          "text": [
            "Jumlah Ratings: 7,824,481\n",
            "Jenis Kolom Yang Tersedia: ['userId' 'productId' 'rating' 'timestamp']\n",
            "Jumlah User: 4,201,696\n",
            "Jumlah Produk: 476,001\n"
          ]
        }
      ],
      "source": [
        "print(\"Jumlah Ratings: {:,}\".format(electronics_data.shape[0]) )\n",
        "print(\"Jenis Kolom Yang Tersedia: {}\".format( np.array2string(electronics_data.columns.values)) )\n",
        "print(\"Jumlah User: {:,}\".format(len(electronics_data.userId.unique()) ) )\n",
        "print(\"Jumlah Produk: {:,}\".format(len(electronics_data.productId.unique())  ) )"
      ]
    },
    {
      "cell_type": "markdown",
      "metadata": {
        "id": "EYnnyHIPmqTd"
      },
      "source": [
        "### **Mengecek Baris Kosong**"
      ]
    },
    {
      "cell_type": "code",
      "execution_count": 47,
      "metadata": {
        "colab": {
          "base_uri": "https://localhost:8080/",
          "height": 192
        },
        "id": "1cLjEzfFmhwZ",
        "outputId": "b6f78575-43f3-4aec-ac96-50205792e6d9"
      },
      "outputs": [
        {
          "name": "stdout",
          "output_type": "stream",
          "text": [
            "Jumlah baris kosong:\n"
          ]
        },
        {
          "data": {
            "text/html": [
              "<div>\n",
              "<style scoped>\n",
              "    .dataframe tbody tr th:only-of-type {\n",
              "        vertical-align: middle;\n",
              "    }\n",
              "\n",
              "    .dataframe tbody tr th {\n",
              "        vertical-align: top;\n",
              "    }\n",
              "\n",
              "    .dataframe thead th {\n",
              "        text-align: right;\n",
              "    }\n",
              "</style>\n",
              "<table border=\"1\" class=\"dataframe\">\n",
              "  <thead>\n",
              "    <tr style=\"text-align: right;\">\n",
              "      <th></th>\n",
              "      <th>Kolom</th>\n",
              "      <th>Total Kosong</th>\n",
              "    </tr>\n",
              "  </thead>\n",
              "  <tbody>\n",
              "    <tr>\n",
              "      <th>0</th>\n",
              "      <td>userId</td>\n",
              "      <td>0</td>\n",
              "    </tr>\n",
              "    <tr>\n",
              "      <th>1</th>\n",
              "      <td>productId</td>\n",
              "      <td>0</td>\n",
              "    </tr>\n",
              "    <tr>\n",
              "      <th>2</th>\n",
              "      <td>rating</td>\n",
              "      <td>0</td>\n",
              "    </tr>\n",
              "    <tr>\n",
              "      <th>3</th>\n",
              "      <td>timestamp</td>\n",
              "      <td>0</td>\n",
              "    </tr>\n",
              "  </tbody>\n",
              "</table>\n",
              "</div>"
            ],
            "text/plain": [
              "       Kolom  Total Kosong\n",
              "0     userId             0\n",
              "1  productId             0\n",
              "2     rating             0\n",
              "3  timestamp             0"
            ]
          },
          "execution_count": 47,
          "metadata": {},
          "output_type": "execute_result"
        }
      ],
      "source": [
        "print('Jumlah baris kosong:')\n",
        "pd.DataFrame(electronics_data.isnull().sum().reset_index()).rename( columns={0:\"Total Kosong\",\"index\":\"Kolom\"}) "
      ]
    },
    {
      "cell_type": "markdown",
      "metadata": {
        "id": "bZeZy3ZnNtNh"
      },
      "source": [
        "## **Exploratory Data Analysis**"
      ]
    },
    {
      "cell_type": "markdown",
      "metadata": {
        "id": "jBkDWuGynQzs"
      },
      "source": [
        "### **Melihat data berdasarkan waktu dan ratingnya**"
      ]
    },
    {
      "cell_type": "code",
      "execution_count": 48,
      "metadata": {
        "colab": {
          "base_uri": "https://localhost:8080/",
          "height": 381
        },
        "id": "AM12oO-EnDpk",
        "outputId": "2e127a3a-f972-4598-c39b-44fd47bc07de"
      },
      "outputs": [
        {
          "name": "stdout",
          "output_type": "stream",
          "text": [
            "Jumlah Ratings setiap harinya:\n"
          ]
        },
        {
          "data": {
            "text/html": [
              "<div>\n",
              "<style scoped>\n",
              "    .dataframe tbody tr th:only-of-type {\n",
              "        vertical-align: middle;\n",
              "    }\n",
              "\n",
              "    .dataframe tbody tr th {\n",
              "        vertical-align: top;\n",
              "    }\n",
              "\n",
              "    .dataframe thead th {\n",
              "        text-align: right;\n",
              "    }\n",
              "</style>\n",
              "<table border=\"1\" class=\"dataframe\">\n",
              "  <thead>\n",
              "    <tr style=\"text-align: right;\">\n",
              "      <th></th>\n",
              "      <th>timestamp</th>\n",
              "      <th>rating</th>\n",
              "    </tr>\n",
              "  </thead>\n",
              "  <tbody>\n",
              "    <tr>\n",
              "      <th>0</th>\n",
              "      <td>2014-07-14</td>\n",
              "      <td>9701</td>\n",
              "    </tr>\n",
              "    <tr>\n",
              "      <th>1</th>\n",
              "      <td>2014-07-15</td>\n",
              "      <td>6892</td>\n",
              "    </tr>\n",
              "    <tr>\n",
              "      <th>2</th>\n",
              "      <td>2014-07-16</td>\n",
              "      <td>5943</td>\n",
              "    </tr>\n",
              "    <tr>\n",
              "      <th>3</th>\n",
              "      <td>2014-07-17</td>\n",
              "      <td>4781</td>\n",
              "    </tr>\n",
              "    <tr>\n",
              "      <th>4</th>\n",
              "      <td>2014-07-18</td>\n",
              "      <td>4912</td>\n",
              "    </tr>\n",
              "    <tr>\n",
              "      <th>5</th>\n",
              "      <td>2014-07-19</td>\n",
              "      <td>4183</td>\n",
              "    </tr>\n",
              "    <tr>\n",
              "      <th>6</th>\n",
              "      <td>2014-07-20</td>\n",
              "      <td>4273</td>\n",
              "    </tr>\n",
              "    <tr>\n",
              "      <th>7</th>\n",
              "      <td>2014-07-21</td>\n",
              "      <td>5458</td>\n",
              "    </tr>\n",
              "    <tr>\n",
              "      <th>8</th>\n",
              "      <td>2014-07-22</td>\n",
              "      <td>5010</td>\n",
              "    </tr>\n",
              "    <tr>\n",
              "      <th>9</th>\n",
              "      <td>2014-07-23</td>\n",
              "      <td>695</td>\n",
              "    </tr>\n",
              "  </tbody>\n",
              "</table>\n",
              "</div>"
            ],
            "text/plain": [
              "   timestamp  rating\n",
              "0 2014-07-14    9701\n",
              "1 2014-07-15    6892\n",
              "2 2014-07-16    5943\n",
              "3 2014-07-17    4781\n",
              "4 2014-07-18    4912\n",
              "5 2014-07-19    4183\n",
              "6 2014-07-20    4273\n",
              "7 2014-07-21    5458\n",
              "8 2014-07-22    5010\n",
              "9 2014-07-23     695"
            ]
          },
          "execution_count": 48,
          "metadata": {},
          "output_type": "execute_result"
        }
      ],
      "source": [
        "data_by_date = electronics_data.copy()\n",
        "data_by_date.timestamp = pd.to_datetime(electronics_data.timestamp, unit=\"s\")\n",
        "data_by_date = data_by_date.sort_values(by=\"timestamp\", ascending=False).reset_index(drop=True)\n",
        "print(\"Jumlah Ratings setiap harinya:\")\n",
        "data_by_date.groupby(\"timestamp\")[\"rating\"].count().tail(10).reset_index()"
      ]
    },
    {
      "cell_type": "markdown",
      "metadata": {
        "id": "Tia51j8pnZ6V"
      },
      "source": [
        "### **Melihat grafik trends berdasarkan waktu dan total pemberian rating**"
      ]
    },
    {
      "cell_type": "code",
      "execution_count": 49,
      "metadata": {
        "colab": {
          "base_uri": "https://localhost:8080/",
          "height": 285
        },
        "id": "HIyFQe5UnWo0",
        "outputId": "29069a5e-e8cb-45d5-8109-4f27a8a1d178"
      },
      "outputs": [
        {
          "data": {
            "image/png": "[encoded data removed]",
            "text/plain": [
              "<Figure size 640x480 with 1 Axes>"
            ]
          },
          "metadata": {},
          "output_type": "display_data"
        }
      ],
      "source": [
        "data_by_date[\"year\"]  = data_by_date.timestamp.dt.year\n",
        "data_by_date[\"month\"] = data_by_date.timestamp.dt.month\n",
        "rating_by_year = data_by_date.groupby([\"year\",\"month\"])[\"rating\"].count().reset_index()\n",
        "rating_by_year[\"date\"] = pd.to_datetime(rating_by_year[\"year\"].astype(\"str\")  +\"-\"+rating_by_year[\"month\"].astype(\"str\") +\"-1\")\n",
        "rating_by_year.plot(x=\"date\", y=\"rating\")\n",
        "plt.title(\"Jumlah Rating setiap tahunnya\")\n",
        "plt.show()"
      ]
    },
    {
      "cell_type": "markdown",
      "metadata": {
        "id": "Rk0NJMM3K5XG"
      },
      "source": [
        "### **Melihat banyaknya persebaran rating yang diberikan oleh pengguna**"
      ]
    },
    {
      "cell_type": "code",
      "execution_count": 50,
      "metadata": {
        "id": "qzc-F7cWNCFP"
      },
      "outputs": [],
      "source": [
        "ratings = electronics_data.groupby(\"rating\").agg({\"rating\":\"count\"})"
      ]
    },
    {
      "cell_type": "code",
      "execution_count": 51,
      "metadata": {
        "colab": {
          "base_uri": "https://localhost:8080/",
          "height": 347
        },
        "id": "i2IfUzA_NIhA",
        "outputId": "571192e4-52fd-451f-8d8b-3babf5119be9"
      },
      "outputs": [
        {
          "data": {
            "image/png": "[encoded data removed]",
            "text/plain": [
              "<Figure size 1500x500 with 2 Axes>"
            ]
          },
          "metadata": {},
          "output_type": "display_data"
        }
      ],
      "source": [
        "figsize = (15,5)\n",
        "fig, (ax1,ax2) = plt.subplots(1,2,figsize=figsize)\n",
        "ratings.plot.pie(ax=ax1,y=\"rating\", legend=False, autopct='%1.f%%', startangle=90, fontsize=\"x-large\", \n",
        "                 labels=[\"Bintang 1\",\"Bintang 2\",\"Bintang 3\",\"Bintang 4\",\"Bintang 5\"])\n",
        "ax1.set_ylabel('')\n",
        "ratings.plot.bar(ax=ax2,  fontsize=\"large\")\n",
        "ax2.set(ylabel=\"Jumlah Rating\")\n",
        "ax2.set(title=\"Persebaran Data Rating\")\n",
        "ax2.get_legend().remove()\n",
        "\n",
        "plt.show()"
      ]
    },
    {
      "cell_type": "markdown",
      "metadata": {
        "id": "gUgkVeqZKw70"
      },
      "source": [
        "### **Melihat produk teratas berdasarkan jumlah rating**"
      ]
    },
    {
      "cell_type": "code",
      "execution_count": 52,
      "metadata": {
        "id": "r48dUNQtNyT5"
      },
      "outputs": [],
      "source": [
        "rating_by_product = electronics_data.groupby(\"productId\").agg({\"userId\":\"count\",\"rating\":\"mean\"}).rename(\n",
        "                        columns={\"userId\":\"Jumlah Rating\", \"rating\":\"Rata-rata Rating\"}).reset_index()"
      ]
    },
    {
      "cell_type": "code",
      "execution_count": 53,
      "metadata": {
        "colab": {
          "base_uri": "https://localhost:8080/",
          "height": 236
        },
        "id": "F7jSu3sgOASf",
        "outputId": "64fec279-17c0-420a-d692-969efcc53f49"
      },
      "outputs": [
        {
          "data": {
            "text/markdown": [
              "Produk teratas berdasarkan jumlah rating"
            ],
            "text/plain": [
              "<IPython.core.display.Markdown object>"
            ]
          },
          "metadata": {},
          "output_type": "display_data"
        },
        {
          "data": {
            "text/html": [
              "<div>\n",
              "<style scoped>\n",
              "    .dataframe tbody tr th:only-of-type {\n",
              "        vertical-align: middle;\n",
              "    }\n",
              "\n",
              "    .dataframe tbody tr th {\n",
              "        vertical-align: top;\n",
              "    }\n",
              "\n",
              "    .dataframe thead th {\n",
              "        text-align: right;\n",
              "    }\n",
              "</style>\n",
              "<table border=\"1\" class=\"dataframe\">\n",
              "  <thead>\n",
              "    <tr style=\"text-align: right;\">\n",
              "      <th></th>\n",
              "      <th>productId</th>\n",
              "      <th>Jumlah Rating</th>\n",
              "      <th>Rata-rata Rating</th>\n",
              "    </tr>\n",
              "  </thead>\n",
              "  <tbody>\n",
              "    <tr>\n",
              "      <th>0</th>\n",
              "      <td>B0074BW614</td>\n",
              "      <td>18244</td>\n",
              "      <td>4.491504</td>\n",
              "    </tr>\n",
              "    <tr>\n",
              "      <th>1</th>\n",
              "      <td>B00DR0PDNE</td>\n",
              "      <td>16454</td>\n",
              "      <td>3.931020</td>\n",
              "    </tr>\n",
              "    <tr>\n",
              "      <th>2</th>\n",
              "      <td>B007WTAJTO</td>\n",
              "      <td>14172</td>\n",
              "      <td>4.424005</td>\n",
              "    </tr>\n",
              "    <tr>\n",
              "      <th>3</th>\n",
              "      <td>B0019EHU8G</td>\n",
              "      <td>12285</td>\n",
              "      <td>4.754497</td>\n",
              "    </tr>\n",
              "    <tr>\n",
              "      <th>4</th>\n",
              "      <td>B006GWO5WK</td>\n",
              "      <td>12226</td>\n",
              "      <td>4.314657</td>\n",
              "    </tr>\n",
              "  </tbody>\n",
              "</table>\n",
              "</div>"
            ],
            "text/plain": [
              "    productId  Jumlah Rating  Rata-rata Rating\n",
              "0  B0074BW614          18244          4.491504\n",
              "1  B00DR0PDNE          16454          3.931020\n",
              "2  B007WTAJTO          14172          4.424005\n",
              "3  B0019EHU8G          12285          4.754497\n",
              "4  B006GWO5WK          12226          4.314657"
            ]
          },
          "execution_count": 53,
          "metadata": {},
          "output_type": "execute_result"
        }
      ],
      "source": [
        "printmd(\"Produk teratas berdasarkan jumlah rating\")\n",
        "rating_by_product.sort_values(by=\"Jumlah Rating\",ascending=False ).reset_index(drop=True).head()"
      ]
    },
    {
      "cell_type": "markdown",
      "metadata": {
        "id": "HJu_66L6nlSE"
      },
      "source": [
        "## **Modelling and Result**"
      ]
    },
    {
      "cell_type": "markdown",
      "metadata": {
        "id": "vl2hGOtcTGcp"
      },
      "source": [
        "### **Import Library**"
      ]
    },
    {
      "cell_type": "code",
      "execution_count": 54,
      "metadata": {
        "colab": {
          "base_uri": "https://localhost:8080/"
        },
        "id": "7nH7hufoQZs6",
        "outputId": "c6772fff-43ec-4ca4-b893-9b354bb8b2ae"
      },
      "outputs": [
        {
          "name": "stderr",
          "output_type": "stream",
          "text": [
            "\n",
            "[notice] A new release of pip is available: 24.2 -> 24.3.1\n",
            "[notice] To update, run: python.exe -m pip install --upgrade pip\n"
          ]
        }
      ],
      "source": [
        "!pip install -q tensorflow-recommenders"
      ]
    },
    {
      "cell_type": "code",
      "execution_count": 55,
      "metadata": {
        "id": "szO7nlERQajP"
      },
      "outputs": [],
      "source": [
        "import tensorflow as tf\n",
        "import tensorflow_recommenders as tfrs"
      ]
    },
    {
      "cell_type": "code",
      "execution_count": 56,
      "metadata": {
        "id": "FS2HMO2HnhkF"
      },
      "outputs": [],
      "source": [
        "class RankingModel(tf.keras.Model):\n",
        "\n",
        "    def __init__(self):\n",
        "        super().__init__()\n",
        "        embedding_dimension = 32\n",
        "\n",
        "        self.user_embeddings = tf.keras.Sequential([\n",
        "                                    tf.keras.layers.StringLookup(\n",
        "                                        vocabulary=unique_userIds, mask_token=None),\n",
        "                                    tf.keras.layers.Embedding(len(unique_userIds)+1, embedding_dimension)\n",
        "                                    ])\n",
        "\n",
        "        self.product_embeddings = tf.keras.Sequential([\n",
        "                                    tf.keras.layers.StringLookup(\n",
        "                                        vocabulary=unique_productIds, mask_token=None),\n",
        "                                    tf.keras.layers.Embedding(len(unique_productIds)+1, embedding_dimension)\n",
        "                                    ])\n",
        "        self.ratings = tf.keras.Sequential([\n",
        "                            tf.keras.layers.Dense(256, activation=\"relu\"),\n",
        "                            tf.keras.layers.Dense(64,  activation=\"relu\"),\n",
        "                            tf.keras.layers.Dense(1)\n",
        "                              ])\n",
        "    def call(self, userId, productId):\n",
        "        user_embeddings  = self.user_embeddings (userId)\n",
        "        product_embeddings = self.product_embeddings(productId)\n",
        "        return self.ratings(tf.concat([user_embeddings,product_embeddings], axis=1))\n",
        "\n",
        "# Build a model.\n",
        "class amazonModel(tfrs.models.Model):\n",
        "\n",
        "    def __init__(self):\n",
        "        super().__init__()\n",
        "        self.ranking_model: tf.keras.Model = RankingModel()\n",
        "        self.task: tf.keras.layers.Layer   = tfrs.tasks.Ranking(\n",
        "                                                    loss    =  tf.keras.losses.MeanSquaredError(),\n",
        "                                                    metrics = [tf.keras.metrics.RootMeanSquaredError()])\n",
        "            \n",
        "\n",
        "    def compute_loss(self, features, training=False):\n",
        "        rating_predictions = self.ranking_model(features[\"userId\"], features[\"productId\"]  )\n",
        "\n",
        "        return self.task( labels=features[\"rating\"], predictions=rating_predictions)"
      ]
    },
    {
      "cell_type": "code",
      "execution_count": 57,
      "metadata": {
        "colab": {
          "base_uri": "https://localhost:8080/"
        },
        "id": "hAsvdvQWUgQc",
        "outputId": "82e2f3f1-dcf9-4460-b180-01a67693ddaf"
      },
      "outputs": [
        {
          "name": "stdout",
          "output_type": "stream",
          "text": [
            "Jumlah Rating: 5,566,858\n",
            "Jumlah Pengguna: 3,142,438\n",
            "Jumlah Produk: 382,245\n"
          ]
        }
      ],
      "source": [
        "cutoff_no_rat = 50    \n",
        "cutoff_year   = 2011  \n",
        "recent_data   = data_by_date.loc[data_by_date[\"year\"] > cutoff_year]\n",
        "print(\"Jumlah Rating: {:,}\".format(recent_data.shape[0]) )\n",
        "print(\"Jumlah Pengguna: {:,}\".format(len(recent_data.userId.unique()) ) )\n",
        "print(\"Jumlah Produk: {:,}\".format(len(recent_data.productId.unique())  ) )\n",
        "del data_by_date  \n",
        "recent_prod   = recent_data.loc[recent_data.groupby(\"productId\")[\"rating\"].transform('count').ge(cutoff_no_rat)].reset_index(\n",
        "                    drop=True).drop([\"timestamp\",\"year\",\"month\"],axis=1)\n",
        "del recent_data"
      ]
    },
    {
      "cell_type": "code",
      "execution_count": 58,
      "metadata": {
        "id": "SFNQ_Kkzo1xA"
      },
      "outputs": [],
      "source": [
        "userIds    = recent_prod.userId.unique()\n",
        "productIds = recent_prod.productId.unique()\n",
        "total_ratings= len(recent_prod.index)"
      ]
    },
    {
      "cell_type": "code",
      "execution_count": 59,
      "metadata": {
        "id": "PbNwq6hUo4DC"
      },
      "outputs": [],
      "source": [
        "ratings = tf.data.Dataset.from_tensor_slices( {\"userId\":tf.cast( recent_prod.userId.values  ,tf.string),\n",
        "                                \"productId\":tf.cast( recent_prod.productId.values,tf.string),\n",
        "                                \"rating\":tf.cast( recent_prod.rating.values  ,tf.int8,) } )"
      ]
    },
    {
      "cell_type": "code",
      "execution_count": 60,
      "metadata": {
        "id": "CrSis_q2phnT"
      },
      "outputs": [],
      "source": [
        "tf.random.set_seed(42)\n",
        "shuffled = ratings.shuffle(100_000, seed=42, reshuffle_each_iteration=False)\n",
        "\n",
        "train = shuffled.take( int(total_ratings*0.8) )\n",
        "test = shuffled.skip(int(total_ratings*0.8)).take(int(total_ratings*0.2))\n",
        "\n",
        "unique_productIds = productIds\n",
        "unique_userIds    = userIds"
      ]
    },
    {
      "cell_type": "markdown",
      "metadata": {
        "id": "y8mRwjgSTCK_"
      },
      "source": [
        "### **Model Aktif Mempelajari Pola**"
      ]
    },
    {
      "cell_type": "code",
      "execution_count": 63,
      "metadata": {
        "colab": {
          "base_uri": "https://localhost:8080/"
        },
        "id": "lGZLprQ-pn8g",
        "outputId": "73dba950-e3d3-4d98-93cc-1b2ac32d7abf"
      },
      "outputs": [
        {
          "name": "stdout",
          "output_type": "stream",
          "text": [
            "Epoch 1/10\n",
            "\u001b[1m369/369\u001b[0m \u001b[32m━━━━━━━━━━━━━━━━━━━━\u001b[0m\u001b[37m\u001b[0m \u001b[1m78s\u001b[0m 205ms/step - loss: 1.8824 - regularization_loss: 0.0000e+00 - root_mean_squared_error: 1.5817 - total_loss: 1.8824\n",
            "Epoch 2/10\n",
            "\u001b[1m369/369\u001b[0m \u001b[32m━━━━━━━━━━━━━━━━━━━━\u001b[0m\u001b[37m\u001b[0m \u001b[1m75s\u001b[0m 204ms/step - loss: 1.6105 - regularization_loss: 0.0000e+00 - root_mean_squared_error: 1.2976 - total_loss: 1.6105\n",
            "Epoch 3/10\n",
            "\u001b[1m369/369\u001b[0m \u001b[32m━━━━━━━━━━━━━━━━━━━━\u001b[0m\u001b[37m\u001b[0m \u001b[1m75s\u001b[0m 203ms/step - loss: 1.5623 - regularization_loss: 0.0000e+00 - root_mean_squared_error: 1.2722 - total_loss: 1.5623\n",
            "Epoch 4/10\n",
            "\u001b[1m369/369\u001b[0m \u001b[32m━━━━━━━━━━━━━━━━━━━━\u001b[0m\u001b[37m\u001b[0m \u001b[1m73s\u001b[0m 198ms/step - loss: 1.5482 - regularization_loss: 0.0000e+00 - root_mean_squared_error: 1.2649 - total_loss: 1.5482\n",
            "Epoch 5/10\n",
            "\u001b[1m369/369\u001b[0m \u001b[32m━━━━━━━━━━━━━━━━━━━━\u001b[0m\u001b[37m\u001b[0m \u001b[1m72s\u001b[0m 196ms/step - loss: 1.5437 - regularization_loss: 0.0000e+00 - root_mean_squared_error: 1.2627 - total_loss: 1.5437\n",
            "Epoch 6/10\n",
            "\u001b[1m369/369\u001b[0m \u001b[32m━━━━━━━━━━━━━━━━━━━━\u001b[0m\u001b[37m\u001b[0m \u001b[1m76s\u001b[0m 205ms/step - loss: 1.5417 - regularization_loss: 0.0000e+00 - root_mean_squared_error: 1.2618 - total_loss: 1.5417\n",
            "Epoch 7/10\n",
            "\u001b[1m369/369\u001b[0m \u001b[32m━━━━━━━━━━━━━━━━━━━━\u001b[0m\u001b[37m\u001b[0m \u001b[1m75s\u001b[0m 202ms/step - loss: 1.5405 - regularization_loss: 0.0000e+00 - root_mean_squared_error: 1.2613 - total_loss: 1.5405\n",
            "Epoch 8/10\n",
            "\u001b[1m369/369\u001b[0m \u001b[32m━━━━━━━━━━━━━━━━━━━━\u001b[0m\u001b[37m\u001b[0m \u001b[1m74s\u001b[0m 201ms/step - loss: 1.5397 - regularization_loss: 0.0000e+00 - root_mean_squared_error: 1.2610 - total_loss: 1.5397\n",
            "Epoch 9/10\n",
            "\u001b[1m369/369\u001b[0m \u001b[32m━━━━━━━━━━━━━━━━━━━━\u001b[0m\u001b[37m\u001b[0m \u001b[1m75s\u001b[0m 202ms/step - loss: 1.5390 - regularization_loss: 0.0000e+00 - root_mean_squared_error: 1.2607 - total_loss: 1.5390\n",
            "Epoch 10/10\n",
            "\u001b[1m369/369\u001b[0m \u001b[32m━━━━━━━━━━━━━━━━━━━━\u001b[0m\u001b[37m\u001b[0m \u001b[1m75s\u001b[0m 204ms/step - loss: 1.5384 - regularization_loss: 0.0000e+00 - root_mean_squared_error: 1.2604 - total_loss: 1.5384\n"
          ]
        }
      ],
      "source": [
        "# Define the model\n",
        "model = amazonModel()\n",
        "\n",
        "# Compile the model\n",
        "model.compile(optimizer=tf.keras.optimizers.Adagrad(learning_rate=0.1))\n",
        "\n",
        "# Prepare the dataset\n",
        "cached_train = train.shuffle(100_000).batch(8192).cache()\n",
        "cached_test = test.batch(4096).cache()\n",
        "\n",
        "# Train the model\n",
        "history = model.fit(cached_train, epochs=10)\n"
      ]
    },
    {
      "cell_type": "code",
      "execution_count": 64,
      "metadata": {
        "colab": {
          "base_uri": "https://localhost:8080/",
          "height": 295
        },
        "id": "PsHW_LRE7ZF4",
        "outputId": "43b83848-9e87-4e77-e87c-f6cee077dd05"
      },
      "outputs": [
        {
          "data": {
            "image/png": "[encoded data removed]",
            "text/plain": [
              "<Figure size 640x480 with 1 Axes>"
            ]
          },
          "metadata": {},
          "output_type": "display_data"
        }
      ],
      "source": [
        "plt.plot(history.history['loss'], label='Training')\n",
        "plt.plot(history.history['total_loss'], label='Validation')\n",
        "plt.title('Loss Model')\n",
        "plt.ylabel('loss')\n",
        "plt.xlabel('epoch')\n",
        "plt.legend(loc='upper right')\n",
        "plt.show()"
      ]
    },
    {
      "cell_type": "markdown",
      "metadata": {
        "id": "cOGGKZUtM7YF"
      },
      "source": [
        "### **Result**"
      ]
    },
    {
      "cell_type": "code",
      "execution_count": 65,
      "metadata": {
        "id": "Dgi6LNMXNBK3"
      },
      "outputs": [],
      "source": [
        "user_rand = userIds[123]\n",
        "test_rating = {}\n",
        "for m in test.take(5):\n",
        "    test_rating[m[\"productId\"].numpy()]=RankingModel()(tf.convert_to_tensor([user_rand]),\n",
        "                                                       tf.convert_to_tensor([m[\"productId\"]]))"
      ]
    },
    {
      "cell_type": "code",
      "execution_count": 66,
      "metadata": {
        "colab": {
          "base_uri": "https://localhost:8080/"
        },
        "id": "LmFKZImPNBsF",
        "outputId": "9909e89e-6cb7-47a3-b12f-e91bd2b28387"
      },
      "outputs": [
        {
          "name": "stdout",
          "output_type": "stream",
          "text": [
            "5 produk teratas yang direkomendasikan untuk pengguna A32PYU1S3Y7QFY: \n",
            "B002FFG6JC\n",
            "B0012YJQWQ\n",
            "B004ABO7QI\n",
            "B006YW3DI4\n",
            "B006ZBWV0K\n"
          ]
        }
      ],
      "source": [
        "print(\"5 produk teratas yang direkomendasikan untuk pengguna {}: \".format(user_rand))\n",
        "for m in sorted(test_rating, key=test_rating.get, reverse=True):\n",
        "    print(m.decode())"
      ]
    },
    {
      "cell_type": "markdown",
      "metadata": {
        "id": "2NFGk8cFZWtS"
      },
      "source": [
        "## **Evaluasi**"
      ]
    },
    {
      "cell_type": "code",
      "execution_count": 67,
      "metadata": {
        "colab": {
          "base_uri": "https://localhost:8080/"
        },
        "id": "pUcggiNypyCY",
        "outputId": "054015e7-aba7-4854-85b6-fe1e4e38888d"
      },
      "outputs": [
        {
          "name": "stdout",
          "output_type": "stream",
          "text": [
            "\u001b[1m185/185\u001b[0m \u001b[32m━━━━━━━━━━━━━━━━━━━━\u001b[0m\u001b[37m\u001b[0m \u001b[1m19s\u001b[0m 35ms/step - loss: 1.7167 - regularization_loss: 0.0000e+00 - root_mean_squared_error: 1.2722 - total_loss: 1.7167\n"
          ]
        },
        {
          "data": {
            "text/plain": [
              "{'loss': <tf.Tensor: shape=(), dtype=float32, numpy=1.7815556526184082>,\n",
              " 'root_mean_squared_error': <tf.Tensor: shape=(), dtype=float32, numpy=1.3099995851516724>,\n",
              " 'regularization_loss': <tf.Tensor: shape=(), dtype=int32, numpy=0>,\n",
              " 'total_loss': <tf.Tensor: shape=(), dtype=float32, numpy=1.7815556526184082>}"
            ]
          },
          "execution_count": 67,
          "metadata": {},
          "output_type": "execute_result"
        }
      ],
      "source": [
        "model.evaluate(cached_test, return_dict=True)"
      ]
    }
  ],
  "metadata": {
    "colab": {
      "provenance": []
    },
    "kernelspec": {
      "display_name": "Python 3",
      "name": "python3"
    },
    "language_info": {
      "codemirror_mode": {
        "name": "ipython",
        "version": 3
      },
      "file_extension": ".py",
      "mimetype": "text/x-python",
      "name": "python",
      "nbconvert_exporter": "python",
      "pygments_lexer": "ipython3",
      "version": "3.12.3"
    }
  },
  "nbformat": 4,
  "nbformat_minor": 0
}
